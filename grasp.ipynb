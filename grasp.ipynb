{
 "cells": [
  {
   "cell_type": "markdown",
   "id": "eb843ca8",
   "metadata": {},
   "source": [
    "## GRASP para o Prize Collecting Steiner Tree Problem"
   ]
  },
  {
   "cell_type": "code",
   "execution_count": 66,
   "id": "d93b6d8a",
   "metadata": {},
   "outputs": [],
   "source": [
    "import numpy as np\n",
    "import pandas as pd\n",
    "import os\n",
    "import itertools as it\n",
    "import random\n",
    "import networkx as nx\n",
    "from networkx.algorithms.approximation import steinertree\n",
    "import matplotlib.pyplot as plt\n",
    "import time\n",
    "import json"
   ]
  },
  {
   "cell_type": "code",
   "execution_count": 67,
   "id": "aad60315",
   "metadata": {},
   "outputs": [],
   "source": [
    "from pcstp_instance import readInstance, pathCost, removeNode, getNeighbors, instanceGraph, treeCost"
   ]
  },
  {
   "cell_type": "markdown",
   "id": "5fea458a",
   "metadata": {},
   "source": [
    "### Solução Inicial"
   ]
  },
  {
   "cell_type": "code",
   "execution_count": 68,
   "id": "e1218d95",
   "metadata": {},
   "outputs": [],
   "source": [
    "def heuristicConstruct(inst, graph, edges, terminal_pen):\n",
    "    terminals = np.nonzero(terminal_pen)[0]\n",
    "\n",
    "    #pega os caminhos minimos já calculados para a instancia \n",
    "    sp = inst.getShortestPaths()\n",
    "    \n",
    "    #Construção do grafo apenas com nós terminais:\n",
    "    g = nx.Graph()\n",
    "    for t in terminals:\n",
    "        g.add_node(t)\n",
    "    for c in it.combinations(terminals, 2):\n",
    "        #O custo das arestas do grafo de terminais são os custos dos caminhos minimos no original\n",
    "        t1, t2 = c[0], c[1]\n",
    "        p = sp[t1][t2]\n",
    "        c = pathCost(p, edges)\n",
    "        g.add_edge(t1, t2, weight=c)\n",
    "    t = nx.minimum_spanning_tree(g)\n",
    "\n",
    "    #Reconstrução do grafo substituindo as arestas pelos caminhos correspondentes no grafo original\n",
    "    pcst = nx.Graph()\n",
    "    for t1, t2 in t.edges:\n",
    "        p = sp[t1][t2]\n",
    "        m = len(p)\n",
    "        for i in range(m-1):\n",
    "            u, v = p[i], p[i+1]\n",
    "            a, b = min([u,v]), max([u,v])\n",
    "            pcst.add_node(a, label=str(a+1))\n",
    "            pcst.add_node(b, label=str(b+1))\n",
    "            pcst.add_edge(a,b, weight=edges[(a,b)])\n",
    "\n",
    "    return  nx.minimum_spanning_tree(pcst) #pcst"
   ]
  },
  {
   "cell_type": "code",
   "execution_count": 69,
   "id": "682085f0",
   "metadata": {},
   "outputs": [],
   "source": [
    "def pruneLeaves(g, edges, terminal_pen):\n",
    "    #Remove folhas se a aresta incidente possui custo maior que a recompensa do vértice\n",
    "    for u in g.nodes:\n",
    "        N = getNeighbors(g,u)\n",
    "        if len(N) == 1:\n",
    "            v = N[0]\n",
    "            a, b = min([u,v]), max([u,v])\n",
    "            c = edges[(a,b)]\n",
    "            if c > terminal_pen[u]:\n",
    "                removeNode(g, u)\n",
    "                return True\n",
    "    return False\n",
    "\n",
    "def prune(g, edges, terminal_pen):\n",
    "    b = True\n",
    "    while b:\n",
    "        b = pruneLeaves(g, edges, terminal_pen)\n",
    "    g.remove_nodes_from(list(nx.isolates(g)))\n",
    "    return g"
   ]
  },
  {
   "cell_type": "code",
   "execution_count": 70,
   "id": "7dea3a4b",
   "metadata": {},
   "outputs": [],
   "source": [
    "def initialSolution(inst, graph, edges, terminal_pen):\n",
    "    x = heuristicConstruct(inst, graph, edges, terminal_pen)\n",
    "    y = prune(x, edges, terminal_pen)\n",
    "    return y"
   ]
  },
  {
   "cell_type": "markdown",
   "id": "2e5d2e2c",
   "metadata": {},
   "source": [
    "### Busca Local"
   ]
  },
  {
   "cell_type": "code",
   "execution_count": 71,
   "id": "ef553e08",
   "metadata": {},
   "outputs": [],
   "source": [
    "def localSearch(G, G_inst, curr_sol):\n",
    "    iteration_counter = 0\n",
    "    best_sol = curr_sol.copy()\n",
    "    best_sol_cost = treeCost(best_sol, G_inst.getNumNodes(), G_inst.getEdges(), G_inst.getTerminalPenalties())\n",
    "\n",
    "    short_paths = G_inst.getShortestPaths()\n",
    "\n",
    "    try_new_search = True\n",
    "    while(try_new_search):\n",
    "        try_new_search = False\n",
    "\n",
    "        nodes_list = list(range(G_inst.getNumNodes()))\n",
    "        random.shuffle(nodes_list)\n",
    "        #Em uma ordem aleatória dos vértices, testa sua adição ou remoção da solução atual\n",
    "        for node_diff in nodes_list:\n",
    "            if node_diff in best_sol.nodes: #se vértice já está na solução, testa remover\n",
    "                curr_sol.remove_node(node_diff)\n",
    "            else:\n",
    "                curr_sol.add_node(node_diff) #se vértice não está na solução, testa adicionar\n",
    "\n",
    "            #Enquanto solução não for conexa: conecta componentes conexos por caminho minimo\n",
    "            while not nx.is_connected(curr_sol): \n",
    "                components = nx.connected_components(curr_sol) \n",
    "                comp0 = list(next(components))\n",
    "                comp1 = list(next(components))\n",
    "                \n",
    "                v0 = random.choice(comp0)\n",
    "                v1 = random.choice(comp1)\n",
    "                min_path = short_paths[v0][v1]\n",
    "\n",
    "                #Adiciona caminho para reconectar a solucao\n",
    "                for node in min_path:\n",
    "                    if node not in curr_sol.nodes():\n",
    "                        curr_sol.add_node(node, prize = G_inst.getTerminalPenalties()[node])\n",
    "                for i in range(len(min_path)-1):\n",
    "                    if not curr_sol.has_edge(min_path[i], min_path[i+1]):\n",
    "                        curr_sol.add_edge(min_path[i], min_path[i+1], weight = G[min_path[i]][min_path[i+1]][\"cost\"])\n",
    "\n",
    "            curr_sol = prune(curr_sol, G_inst.getEdges(), G_inst.getTerminalPenalties())\n",
    "            cost = treeCost(curr_sol, G_inst.getNumNodes(), G_inst.getEdges(), G_inst.getTerminalPenalties())\n",
    "\n",
    "            if cost < best_sol_cost: #Criterio de parada: Primeira melhoria\n",
    "                best_sol = curr_sol.copy()\n",
    "                best_sol_cost = cost\n",
    "\n",
    "                iteration_counter += 1\n",
    "                try_new_search = True\n",
    "                break\n",
    "            else:\n",
    "                curr_sol = best_sol.copy()\n",
    "\n",
    "    #print(\"Local Search Iterations:\", iteration_counter)\n",
    "    return best_sol, best_sol_cost\n",
    "        "
   ]
  },
  {
   "cell_type": "markdown",
   "id": "b7ef41bf",
   "metadata": {},
   "source": [
    "### Path Relinking"
   ]
  },
  {
   "cell_type": "code",
   "execution_count": 72,
   "id": "ee382c78",
   "metadata": {},
   "outputs": [],
   "source": [
    "class PR_Pool:\n",
    "    def __init__(self, max_pool_size, difference_param=0.01) -> None:\n",
    "        self.max_size = max_pool_size\n",
    "        self.diff_param = difference_param\n",
    "        self.graphs = dict()\n",
    "\n",
    "    def getPoolSize(self):\n",
    "        return len(self.graphs)\n",
    "\n",
    "    def addGraph(self, total_num_vertices, new_graph, new_graph_cost):\n",
    "        nodes_tuple = tuple(new_graph.nodes())\n",
    "        add_solution = False\n",
    "\n",
    "        #adiciona solução na pool se:\n",
    "        # - a solução equivalente está na pool mas com custo maior (substitui)\n",
    "        # - a solução tem custo melhor que todas as já existentes na pool\n",
    "        # - a solução é suficientemente diferente das demais e a pool não está cheia\n",
    "        # - a solução tem custo menor que a pior solução na pool e a solução é diferente das outras na pool\n",
    "        if self.graphs.get(nodes_tuple) != None and self.graphs[nodes_tuple].graph['cost'] > new_graph_cost:\n",
    "            add_solution = True\n",
    "\n",
    "        if not add_solution:\n",
    "            best_cost = np.inf\n",
    "            worst_sol_cost = 0\n",
    "            worst_sol_key = None\n",
    "            is_different_solution = True\n",
    "            for nodes, graph in self.graphs.items():\n",
    "                if graph.graph['cost'] < best_cost:\n",
    "                    best_cost = graph.graph['cost'] \n",
    "                if graph.graph['cost'] > worst_sol_cost:\n",
    "                    worst_sol_cost = graph.graph['cost']\n",
    "                    worst_sol_key = nodes\n",
    "\n",
    "                if len(graph_distance(nodes, nodes_tuple)) < self.diff_param * total_num_vertices:\n",
    "                    is_different_solution = False\n",
    "        \n",
    "            if best_cost > new_graph_cost or (is_different_solution and \n",
    "                    (worst_sol_cost > new_graph_cost or len(self.graphs) < self.max_size)):\n",
    "\n",
    "                add_solution = True\n",
    "                if len(self.graphs) >= self.max_size:\n",
    "                    self.graphs.pop(worst_sol_key, None)\n",
    "\n",
    "        if add_solution:\n",
    "            new_graph.graph['cost'] = new_graph_cost\n",
    "            self.graphs[nodes_tuple] = new_graph.copy()\n",
    "\n",
    "        return add_solution\n",
    "        \n",
    "    def getPool(self):\n",
    "        return self.graphs"
   ]
  },
  {
   "cell_type": "code",
   "execution_count": 73,
   "id": "0140247d",
   "metadata": {},
   "outputs": [],
   "source": [
    "def graph_distance(nodes_list_1, nodes_list_2):\n",
    "    dist = []\n",
    "    for node in nodes_list_1:\n",
    "        if node not in nodes_list_2:\n",
    "            dist.append((node, -1))\n",
    "\n",
    "    for node in nodes_list_2:\n",
    "        if node not in nodes_list_1:\n",
    "            dist.append((node, 1))\n",
    "    \n",
    "    return dist\n",
    "\n",
    "def relinking(graph_instance, instance, source, destination):\n",
    "    best_sol = source\n",
    "    best_sol_cost = source.graph['cost']\n",
    "\n",
    "    short_paths = instance.getShortestPaths()\n",
    "\n",
    "    dist = graph_distance(source.nodes(), destination.nodes())\n",
    "    #print(\"initial distance:\", dist)\n",
    "\n",
    "    curr_sol = best_sol.copy()\n",
    "    curr_sol_cost = best_sol_cost\n",
    "    while len(dist):\n",
    "        best_temp_sol = None\n",
    "        best_temp_sol_cost = np.inf\n",
    "        best_diff = None\n",
    "        \n",
    "        for_dist = dist.copy()\n",
    "        for node_diff, operation in for_dist:\n",
    "            curr_graph = curr_sol.copy()\n",
    "            if operation < 0:\n",
    "                if not curr_graph.has_node(node_diff):\n",
    "                    dist.remove((node_diff, -1))\n",
    "                    continue\n",
    "                curr_graph.remove_node(node_diff)\n",
    "            else:\n",
    "                if curr_graph.has_node(node_diff):\n",
    "                    dist.remove((node_diff, 1))\n",
    "                    continue\n",
    "                curr_graph.add_node(node_diff)\n",
    "\n",
    "            while not nx.is_connected(curr_graph): \n",
    "                components = nx.connected_components(curr_graph) \n",
    "                comp0 = list(next(components))\n",
    "                comp1 = list(next(components))\n",
    "\n",
    "                min_path = None\n",
    "                min_cost = np.inf\n",
    "                for i in range(len(comp0)):\n",
    "                    for j in range(len(comp1)):\n",
    "                        path = short_paths[comp0[i]][comp1[j]]\n",
    "                        path_cost = pathCost(path, instance.getEdges())\n",
    "                        if min_cost > path_cost:\n",
    "                            min_path = path\n",
    "                            min_cost = path_cost\n",
    "\n",
    "                #adiciona caminho para reconectar a solucao\n",
    "                for node in min_path:\n",
    "                    if node not in curr_graph.nodes():\n",
    "                        curr_graph.add_node(node, prize = instance.getTerminalPenalties()[node])\n",
    "                for i in range(len(min_path)-1):\n",
    "                    if not curr_graph.has_edge(min_path[i], min_path[i+1]):\n",
    "                        curr_graph.add_edge(min_path[i], min_path[i+1], \n",
    "                                            weight = graph_instance[min_path[i]][min_path[i+1]][\"cost\"])\n",
    "\n",
    "            curr_graph = prune(curr_graph, instance.getEdges(), instance.getTerminalPenalties())\n",
    "            curr_graph_cost = treeCost(curr_graph, instance.getNumNodes(), instance.getEdges(), instance.getTerminalPenalties())\n",
    "\n",
    "            if curr_graph_cost < best_temp_sol_cost:\n",
    "                best_temp_sol = curr_graph.copy()\n",
    "                best_temp_sol_cost = curr_graph_cost\n",
    "                best_diff = (node_diff, operation)\n",
    "\n",
    "        if best_diff != None:\n",
    "            dist.remove(best_diff)\n",
    "            curr_sol = best_temp_sol.copy()\n",
    "            curr_sol_cost = best_temp_sol_cost\n",
    "            if best_sol_cost > curr_sol_cost:\n",
    "                best_sol = curr_sol.copy()\n",
    "                best_sol_cost = curr_sol_cost\n",
    "\n",
    "    #print(\"final dist:\", graph_distance(curr_sol.nodes(), destination.nodes()), '\\n')\n",
    "    return best_sol, best_sol_cost\n",
    "\n",
    "def pathRelinking(graph_instance, instance, elite_solutions):\n",
    "    best_sol = None\n",
    "    best_sol_cost = np.inf\n",
    "\n",
    "    pool = elite_solutions.getPool()\n",
    "    for nodes1, graph1 in pool.items():\n",
    "        for nodes2, graph2 in pool.items():\n",
    "            if nodes1 != nodes2:\n",
    "                new_solution, new_solution_cost = relinking(graph_instance, instance, graph1, graph2)\n",
    "                if new_solution_cost < best_sol_cost:\n",
    "                    best_sol = new_solution\n",
    "                    best_sol_cost = new_solution_cost\n",
    "\n",
    "    return best_sol, best_sol_cost"
   ]
  },
  {
   "cell_type": "markdown",
   "id": "7a0e0095",
   "metadata": {},
   "source": [
    "### GRASP + Cost Perturbation"
   ]
  },
  {
   "cell_type": "code",
   "execution_count": 74,
   "id": "97e7fd73",
   "metadata": {},
   "outputs": [],
   "source": [
    "def prizePerturbation(prizes, alpha=0.2, new_terminal_prob=0.1, i=1):\n",
    "    if alpha > 1:\n",
    "        raise ValueError(\"PrizePerturbation: Alpha parameter cant be > 1\")\n",
    "\n",
    "    new_prizes = [prize * random.uniform(1 - alpha, 1 + alpha) for prize in prizes]\n",
    "\n",
    "    #Adiciona premio em nós não terminais com certa probabilidade.\n",
    "    #Utilizado para gerar maior diversificação na solução inicial\n",
    "    if i % 2:\n",
    "        new_terminals = [i if (prize == 0 and random.random() < new_terminal_prob) else -1 for i, prize in enumerate(new_prizes)]\n",
    "        new_terminals = list(filter(lambda node: node > -1, new_terminals))\n",
    "\n",
    "        for node in new_terminals:\n",
    "            node_edges = g.edges(node, data=\"cost\")\n",
    "            new_prizes[node] = max(node_edges, key=lambda item:item[2])[2]\n",
    "\n",
    "    return new_prizes"
   ]
  },
  {
   "cell_type": "markdown",
   "id": "db1f1e6a",
   "metadata": {},
   "source": [
    "GRASP:\n",
    "- Enquanto não atingir o máximo de iterações sem melhoria:\n",
    "    - HC\n",
    "    - Busca local\n",
    "    - Verifica se melhorou a solução atual\n",
    "    - Perturbação das recompensas\n",
    "- PR como pós-otimização"
   ]
  },
  {
   "cell_type": "code",
   "execution_count": 75,
   "id": "98f43b5c",
   "metadata": {},
   "outputs": [],
   "source": [
    "#g = grafo original\n",
    "#inst = instancia da classe PCST_INSTANCE para o grafo\n",
    "#max_iterations = parametro de parada, maximo de iterações sem melhoria na solução\n",
    "def GRASP(g, inst, perturbation_param=0.2, max_iterations=10, new_terminal_prob=0, max_pool_size=0):\n",
    "\n",
    "    initial_solution_prizes = inst.getTerminalPenalties()\n",
    "    solution_tree = None\n",
    "    solution_cost = np.inf\n",
    "    instance_info = {'nodes': inst.getNumNodes(), 'edges': inst.getNumEdges(), 'terminals': inst.getNumTerminals()}\n",
    "\n",
    "    elite_solutions = PR_Pool(max_pool_size)\n",
    "    initial_solutions = set()\n",
    "    iterations_counter = 0\n",
    "    iterations_without_progress = 0\n",
    "    grasp_start_time = time.time()\n",
    "    #Criterio de parada: atingir o máximo de iterações sem melhoria da melhor solução encontrada\n",
    "    while iterations_without_progress < max_iterations:\n",
    "        start = time.time()\n",
    "        x = initialSolution(inst, g, inst.getEdges(), initial_solution_prizes)\n",
    "        if iterations_counter == 0:\n",
    "            instance_info['HC_time'] = time.time() - start\n",
    "            instance_info['HC'] = treeCost(x, inst.getNumNodes(), inst.getEdges(), inst.getTerminalPenalties())\n",
    "\n",
    "        tuple_x = tuple(x.nodes())\n",
    "        if tuple_x not in initial_solutions:\n",
    "            initial_solutions.add(tuple_x)\n",
    "            start = time.time()\n",
    "            ls_graph, ls_cost = localSearch(g, inst, x)\n",
    "            if iterations_counter == 0:\n",
    "                instance_info['LS'] = ls_cost\n",
    "                instance_info['LS_time'] = time.time() - start\n",
    "\n",
    "            if ls_cost < solution_cost:\n",
    "                solution_tree = ls_graph\n",
    "                solution_cost = ls_cost\n",
    "                iterations_without_progress = 0\n",
    "            else:\n",
    "                iterations_without_progress += 1\n",
    "\n",
    "            elite_solutions.addGraph(inst.getNumNodes(), ls_graph, ls_cost)\n",
    "        else:\n",
    "            iterations_without_progress += 1\n",
    "\n",
    "        iterations_counter += 1\n",
    "        initial_solution_prizes = prizePerturbation(initial_solution_prizes, perturbation_param, new_terminal_prob, iterations_counter)\n",
    "\n",
    "    instance_info['GRASP'] = solution_cost\n",
    "    instance_info['GRASP_time'] = time.time() - grasp_start_time\n",
    "\n",
    "    if max_pool_size > 0 and elite_solutions.getPoolSize() > 1:\n",
    "        start = time.time()\n",
    "        solution_tree, solution_cost = pathRelinking(g, inst, elite_solutions)\n",
    "        instance_info['PR'] = solution_cost\n",
    "        instance_info['PR_time'] = time.time() - start\n",
    "\n",
    "    instance_info['GRASP_iterations'] = iterations_counter\n",
    "    instance_info['Initial_solutions'] = len(initial_solutions)\n",
    "    return solution_tree, solution_cost, instance_info"
   ]
  },
  {
   "cell_type": "markdown",
   "id": "c8df2651",
   "metadata": {},
   "source": [
    "### Toy Instances - Solução inicial"
   ]
  },
  {
   "cell_type": "markdown",
   "id": "8a7c5489",
   "metadata": {},
   "source": [
    "#### Instance 1"
   ]
  },
  {
   "cell_type": "code",
   "execution_count": 76,
   "id": "223be755",
   "metadata": {},
   "outputs": [
    {
     "name": "stdout",
     "output_type": "stream",
     "text": [
      "HC Cost:  109.0\n",
      "NetworkX Steiner cost:  109.0\n"
     ]
    }
   ],
   "source": [
    "inst = readInstance(\"Instances/Toy/inst_1.stp\", False)\n",
    "g = instanceGraph(inst)\n",
    "x = initialSolution(inst, g, inst.getEdges(), inst.getTerminalPenalties())\n",
    "c = treeCost(x, inst.getNumNodes(), inst.getEdges(), inst.getTerminalPenalties())\n",
    "print(\"HC Cost: \", c)\n",
    "\n",
    "nodes = [i if prize > 0 else -1 for i, prize in enumerate(inst.getTerminalPenalties())]\n",
    "nodes = list(filter(lambda node: node > -1, nodes))\n",
    "\n",
    "steiner = steinertree.steiner_tree(g, nodes, weight='cost')\n",
    "c = treeCost(steiner, inst.getNumNodes(), inst.getEdges(), inst.getTerminalPenalties())\n",
    "print(\"NetworkX Steiner cost: \", c)"
   ]
  },
  {
   "cell_type": "code",
   "execution_count": 77,
   "id": "1dca9fad",
   "metadata": {},
   "outputs": [
    {
     "data": {
      "image/png": "[encoded data removed]",
      "text/plain": [
       "<Figure size 504x504 with 1 Axes>"
      ]
     },
     "metadata": {},
     "output_type": "display_data"
    }
   ],
   "source": [
    "#Grafo da instancia\n",
    "f, ax = plt.subplots(figsize=(7,7))\n",
    "pos = nx.spring_layout(g)\n",
    "\n",
    "nx.draw(\n",
    "    g,\n",
    "    nodelist=g.nodes(),\n",
    "    node_size=600,\n",
    "    pos=pos,\n",
    "    labels={node: int(inst.getTerminalPenalties()[node]) for node in g.nodes()}, #nx.get_node_attributes(x, 'prize'),\n",
    "    ax=ax,\n",
    "    #node_color=[\"red\" if terminal else \"turquoise\" for terminal in nx.get_node_attributes(x, 'terminal').values()],\n",
    "    edgelist=g.edges()\n",
    ")\n",
    "\n",
    "edge_labels = nx.draw_networkx_edge_labels(g, pos=pos, edge_labels=nx.get_edge_attributes(g, 'cost'))"
   ]
  },
  {
   "cell_type": "code",
   "execution_count": 78,
   "id": "4557a321",
   "metadata": {},
   "outputs": [
    {
     "data": {
      "image/png": "[encoded data removed]",
      "text/plain": [
       "<Figure size 504x504 with 1 Axes>"
      ]
     },
     "metadata": {},
     "output_type": "display_data"
    }
   ],
   "source": [
    "#Solução da HC\n",
    "f, ax = plt.subplots(figsize=(7,7))\n",
    "\n",
    "nx.draw(\n",
    "    x,\n",
    "    nodelist=g.nodes(),\n",
    "    node_size=600,\n",
    "    pos=pos,\n",
    "    labels={node: int(inst.getTerminalPenalties()[node]) for node in g.nodes()}, #nx.get_node_attributes(x, 'prize'),\n",
    "    ax=ax,\n",
    "    node_color=[\"red\" if node in x.nodes() else \"turquoise\" for node in g.nodes()],\n",
    "    #node_color=[\"red\" if terminal else \"turquoise\" for terminal in nx.get_node_attributes(x, 'terminal').values()],\n",
    "    edgelist=g.edges(),\n",
    "    edge_color=[\"red\" if edge in x.edges() else \"black\" for edge in g.edges()]\n",
    ")\n",
    "\n",
    "edge_labels = nx.draw_networkx_edge_labels(g, pos=pos, edge_labels=nx.get_edge_attributes(g, 'cost'))"
   ]
  },
  {
   "cell_type": "code",
   "execution_count": 79,
   "id": "d447d1f4",
   "metadata": {},
   "outputs": [
    {
     "data": {
      "image/png": "[encoded data removed]",
      "text/plain": [
       "<Figure size 504x504 with 1 Axes>"
      ]
     },
     "metadata": {},
     "output_type": "display_data"
    }
   ],
   "source": [
    "#Solução do problema Steiner Tree pelo networkx\n",
    "f, ax = plt.subplots(figsize=(7,7))\n",
    "\n",
    "nx.draw(\n",
    "    g,\n",
    "    nodelist=g.nodes(),\n",
    "    node_size=600,\n",
    "    pos=pos,\n",
    "    labels={node: int(inst.getTerminalPenalties()[node]) for node in g.nodes()}, #nx.get_node_attributes(x, 'prize'),\n",
    "    ax=ax,\n",
    "    node_color=[\"red\" if node in steiner.nodes() else \"turquoise\" for node in g.nodes()],\n",
    "    #node_color=[\"red\" if terminal else \"turquoise\" for terminal in nx.get_node_attributes(x, 'terminal').values()],\n",
    "    edgelist=g.edges(),\n",
    "    edge_color=[\"red\" if edge in steiner.edges() else \"black\" for edge in g.edges()]\n",
    ")\n",
    "\n",
    "edge_labels = nx.draw_networkx_edge_labels(g, pos=pos, edge_labels=nx.get_edge_attributes(g, 'cost'))"
   ]
  },
  {
   "cell_type": "markdown",
   "id": "1d4c65f0",
   "metadata": {},
   "source": [
    "#### Instance 2"
   ]
  },
  {
   "cell_type": "code",
   "execution_count": 80,
   "id": "cee4b7d8",
   "metadata": {},
   "outputs": [
    {
     "name": "stdout",
     "output_type": "stream",
     "text": [
      "HC Cost:  33.0\n",
      "NetworkX Steiner cost:  39.0\n"
     ]
    }
   ],
   "source": [
    "inst = readInstance(\"Instances/Toy/inst_2.stp\", False)\n",
    "g = instanceGraph(inst)\n",
    "x = initialSolution(inst, g, inst.getEdges(), inst.getTerminalPenalties())\n",
    "c = treeCost(x, inst.getNumNodes(), inst.getEdges(), inst.getTerminalPenalties())\n",
    "print(\"HC Cost: \", c)\n",
    "\n",
    "nodes = [i if prize > 0 else -1 for i, prize in enumerate(inst.getTerminalPenalties())]\n",
    "nodes = list(filter(lambda node: node > -1, nodes))\n",
    "\n",
    "steiner = steinertree.steiner_tree(g, nodes, weight='cost')\n",
    "c = treeCost(steiner, inst.getNumNodes(), inst.getEdges(), inst.getTerminalPenalties())\n",
    "print(\"NetworkX Steiner cost: \", c)"
   ]
  },
  {
   "cell_type": "code",
   "execution_count": 81,
   "id": "50385cf1",
   "metadata": {},
   "outputs": [
    {
     "data": {
      "image/png": "[encoded data removed]",
      "text/plain": [
       "<Figure size 504x504 with 1 Axes>"
      ]
     },
     "metadata": {},
     "output_type": "display_data"
    }
   ],
   "source": [
    "#Solução da HC\n",
    "f, ax = plt.subplots(figsize=(7,7))\n",
    "pos = nx.random_layout(g)\n",
    "\n",
    "nx.draw(\n",
    "    g,\n",
    "    nodelist=g.nodes(),\n",
    "    node_size=600,\n",
    "    pos=pos,\n",
    "    labels={node: int(inst.getTerminalPenalties()[node]) for node in g.nodes()}, #nx.get_node_attributes(x, 'prize'),\n",
    "    ax=ax,\n",
    "    node_color=[\"red\" if node in x.nodes() else \"turquoise\" for node in g.nodes()],\n",
    "    #node_color=[\"red\" if terminal else \"turquoise\" for terminal in nx.get_node_attributes(x, 'terminal').values()],\n",
    "    edgelist=g.edges(),\n",
    "    edge_color=[\"red\" if edge in x.edges() else \"black\" for edge in g.edges()]\n",
    ")\n",
    "\n",
    "edge_labels = nx.draw_networkx_edge_labels(g, pos=pos, edge_labels=nx.get_edge_attributes(g, 'cost'))"
   ]
  },
  {
   "cell_type": "code",
   "execution_count": 82,
   "id": "139c279f",
   "metadata": {},
   "outputs": [
    {
     "data": {
      "image/png": "[encoded data removed]",
      "text/plain": [
       "<Figure size 504x504 with 1 Axes>"
      ]
     },
     "metadata": {},
     "output_type": "display_data"
    }
   ],
   "source": [
    "#Solução do problema Steiner Tree pelo networkx\n",
    "f, ax = plt.subplots(figsize=(7,7))\n",
    "\n",
    "nx.draw(\n",
    "    g,\n",
    "    nodelist=g.nodes(),\n",
    "    node_size=600,\n",
    "    pos=pos,\n",
    "    labels={node: int(inst.getTerminalPenalties()[node]) for node in g.nodes()}, #nx.get_node_attributes(x, 'prize'),\n",
    "    ax=ax,\n",
    "    node_color=[\"red\" if node in steiner.nodes() else \"turquoise\" for node in g.nodes()],\n",
    "    #node_color=[\"red\" if terminal else \"turquoise\" for terminal in nx.get_node_attributes(x, 'terminal').values()],\n",
    "    edgelist=g.edges(),\n",
    "    edge_color=[\"red\" if edge in steiner.edges() else \"black\" for edge in g.edges()]\n",
    ")\n",
    "\n",
    "edge_labels = nx.draw_networkx_edge_labels(g, pos=pos, edge_labels=nx.get_edge_attributes(g, 'cost'))"
   ]
  },
  {
   "cell_type": "markdown",
   "id": "d7caa16b",
   "metadata": {},
   "source": [
    "#### Instance 3 - 4 - 5"
   ]
  },
  {
   "cell_type": "code",
   "execution_count": 83,
   "id": "a1140108",
   "metadata": {},
   "outputs": [
    {
     "name": "stdout",
     "output_type": "stream",
     "text": [
      "HC Cost:  145.0\n",
      "NetworkX Steiner cost:  220.0\n"
     ]
    }
   ],
   "source": [
    "inst = readInstance(\"Instances/Toy/inst_3.stp\", False)\n",
    "g = instanceGraph(inst)\n",
    "x = initialSolution(inst, g, inst.getEdges(), inst.getTerminalPenalties())\n",
    "c = treeCost(x, inst.getNumNodes(), inst.getEdges(), inst.getTerminalPenalties())\n",
    "print(\"HC Cost: \", c)\n",
    "\n",
    "nodes = [i if prize > 0 else -1 for i, prize in enumerate(inst.getTerminalPenalties())]\n",
    "nodes = list(filter(lambda node: node > -1, nodes))\n",
    "\n",
    "steiner = steinertree.steiner_tree(g, nodes, weight='cost')\n",
    "c = treeCost(steiner, inst.getNumNodes(), inst.getEdges(), inst.getTerminalPenalties())\n",
    "print(\"NetworkX Steiner cost: \", c)"
   ]
  },
  {
   "cell_type": "code",
   "execution_count": 84,
   "id": "0ec89e1a",
   "metadata": {},
   "outputs": [
    {
     "name": "stdout",
     "output_type": "stream",
     "text": [
      "HC Cost:  233.0\n",
      "NetworkX Steiner cost:  312.0\n"
     ]
    }
   ],
   "source": [
    "inst = readInstance(\"Instances/Toy/inst_4.stp\", False)\n",
    "g = instanceGraph(inst)\n",
    "x = initialSolution(inst, g, inst.getEdges(), inst.getTerminalPenalties())\n",
    "c = treeCost(x, inst.getNumNodes(), inst.getEdges(), inst.getTerminalPenalties())\n",
    "print(\"HC Cost: \", c)\n",
    "\n",
    "nodes = [i if prize > 0 else -1 for i, prize in enumerate(inst.getTerminalPenalties())]\n",
    "nodes = list(filter(lambda node: node > -1, nodes))\n",
    "\n",
    "steiner = steinertree.steiner_tree(g, nodes, weight='cost')\n",
    "c = treeCost(steiner, inst.getNumNodes(), inst.getEdges(), inst.getTerminalPenalties())\n",
    "print(\"NetworkX Steiner cost: \", c)"
   ]
  },
  {
   "cell_type": "code",
   "execution_count": 85,
   "id": "a5b1d808",
   "metadata": {},
   "outputs": [
    {
     "name": "stdout",
     "output_type": "stream",
     "text": [
      "HC Cost:  348.0\n",
      "NetworkX Steiner cost:  439.0\n"
     ]
    }
   ],
   "source": [
    "inst = readInstance(\"Instances/Toy/inst_5.stp\", False)\n",
    "g = instanceGraph(inst)\n",
    "x = initialSolution(inst, g, inst.getEdges(), inst.getTerminalPenalties())\n",
    "c = treeCost(x, inst.getNumNodes(), inst.getEdges(), inst.getTerminalPenalties())\n",
    "print(\"HC Cost: \", c)\n",
    "\n",
    "nodes = [i if prize > 0 else -1 for i, prize in enumerate(inst.getTerminalPenalties())]\n",
    "nodes = list(filter(lambda node: node > -1, nodes))\n",
    "\n",
    "steiner = steinertree.steiner_tree(g, nodes, weight='cost')\n",
    "c = treeCost(steiner, inst.getNumNodes(), inst.getEdges(), inst.getTerminalPenalties())\n",
    "print(\"NetworkX Steiner cost: \", c)"
   ]
  },
  {
   "cell_type": "markdown",
   "id": "5f34c29b",
   "metadata": {},
   "source": [
    "#### Instancias dos outros grupos - planilha compartilhada"
   ]
  },
  {
   "cell_type": "code",
   "execution_count": 86,
   "id": "13c68a3d",
   "metadata": {},
   "outputs": [
    {
     "name": "stdout",
     "output_type": "stream",
     "text": [
      "aco1.stp\n",
      "HC Cost:  17.0\n",
      "NetworkX Steiner cost:  17.0 \n",
      "\n",
      "aco2.stp\n",
      "HC Cost:  12.0\n",
      "NetworkX Steiner cost:  12.0 \n",
      "\n",
      "aco3.stp\n",
      "HC Cost:  5.0\n",
      "NetworkX Steiner cost:  5.0 \n",
      "\n",
      "aco4.stp\n",
      "HC Cost:  60.0\n",
      "NetworkX Steiner cost:  60.0 \n",
      "\n",
      "aco5.stp\n",
      "HC Cost:  6.0\n",
      "NetworkX Steiner cost:  6.0 \n",
      "\n",
      "bt1.stp\n",
      "HC Cost:  18.0\n",
      "NetworkX Steiner cost:  18.0 \n",
      "\n",
      "bt3.stp\n",
      "HC Cost:  6.0\n",
      "NetworkX Steiner cost:  6.0 \n",
      "\n",
      "bt5.stp\n",
      "HC Cost:  32.0\n",
      "NetworkX Steiner cost:  32.0 \n",
      "\n",
      "bt7.stp\n",
      "HC Cost:  30.0\n",
      "NetworkX Steiner cost:  30.0 \n",
      "\n"
     ]
    }
   ],
   "source": [
    "folder = \"Instances/Toy/Other Groups/\"\n",
    "directory = os.fsencode(folder)\n",
    "for file in os.listdir(directory):\n",
    "    filename = file.decode(\"utf-8\")\n",
    "    if '.stp' not in filename:\n",
    "        continue\n",
    "\n",
    "    print(filename)\n",
    "\n",
    "    inst = readInstance(folder + filename, False)\n",
    "    g = instanceGraph(inst)\n",
    "    x = initialSolution(inst, g, inst.getEdges(), inst.getTerminalPenalties())\n",
    "    c = treeCost(x, inst.getNumNodes(), inst.getEdges(), inst.getTerminalPenalties())\n",
    "    print(\"HC Cost: \", c)\n",
    "\n",
    "    nodes = [i if prize > 0 else -1 for i, prize in enumerate(inst.getTerminalPenalties())]\n",
    "    nodes = list(filter(lambda node: node > -1, nodes))\n",
    "\n",
    "    steiner = steinertree.steiner_tree(g, nodes, weight='cost')\n",
    "    c = treeCost(steiner, inst.getNumNodes(), inst.getEdges(), inst.getTerminalPenalties())\n",
    "    print(\"NetworkX Steiner cost: \", c, \"\\n\")"
   ]
  },
  {
   "cell_type": "markdown",
   "id": "31b3a464",
   "metadata": {},
   "source": [
    "### Testes"
   ]
  },
  {
   "cell_type": "code",
   "execution_count": 87,
   "id": "081fdfac",
   "metadata": {},
   "outputs": [
    {
     "name": "stdout",
     "output_type": "stream",
     "text": [
      "HC Cost:  44.0\n",
      "NetworkX Steiner cost:  107.0\n"
     ]
    }
   ],
   "source": [
    "inst = readInstance(\"Instances/CRR-D/D01-A.stp\", True)\n",
    "g = instanceGraph(inst)\n",
    "x = initialSolution(inst, g, inst.getEdges(), inst.getTerminalPenalties())\n",
    "c = treeCost(x, inst.getNumNodes(), inst.getEdges(), inst.getTerminalPenalties())\n",
    "print(\"HC Cost: \", c)\n",
    "\n",
    "nodes = [i if prize > 0 else -1 for i, prize in enumerate(inst.getTerminalPenalties())]\n",
    "nodes = list(filter(lambda node: node > -1, nodes))\n",
    "\n",
    "steiner = steinertree.steiner_tree(g, nodes, weight='cost')\n",
    "steinerCost = treeCost(steiner, inst.getNumNodes(), inst.getEdges(), inst.getTerminalPenalties())\n",
    "print(\"NetworkX Steiner cost: \", steinerCost)"
   ]
  },
  {
   "cell_type": "code",
   "execution_count": 88,
   "id": "d6645a8d",
   "metadata": {},
   "outputs": [
    {
     "data": {
      "text/plain": [
       "{'nodes': 1000,\n",
       " 'edges': 1250,\n",
       " 'terminals': 5,\n",
       " 'HC_time': 0.0009999275207519531,\n",
       " 'HC': 44.0,\n",
       " 'LS': 27.0,\n",
       " 'LS_time': 0.05079221725463867,\n",
       " 'GRASP': 27.0,\n",
       " 'GRASP_time': 0.0757136344909668,\n",
       " 'GRASP_iterations': 21,\n",
       " 'Initial_solutions': 1}"
      ]
     },
     "execution_count": 88,
     "metadata": {},
     "output_type": "execute_result"
    }
   ],
   "source": [
    "graspG, graspCost, grasp_info = GRASP(g, inst, 0.2, 20)\n",
    "grasp_info"
   ]
  },
  {
   "cell_type": "code",
   "execution_count": 89,
   "id": "5b32003c",
   "metadata": {},
   "outputs": [
    {
     "data": {
      "text/plain": [
       "{'nodes': 1000,\n",
       " 'edges': 1250,\n",
       " 'terminals': 5,\n",
       " 'HC_time': 0.0009958744049072266,\n",
       " 'HC': 44.0,\n",
       " 'LS': 27.0,\n",
       " 'LS_time': 0.035965681076049805,\n",
       " 'GRASP': 27.0,\n",
       " 'GRASP_time': 19.80878496170044,\n",
       " 'GRASP_iterations': 21,\n",
       " 'Initial_solutions': 21}"
      ]
     },
     "execution_count": 89,
     "metadata": {},
     "output_type": "execute_result"
    }
   ],
   "source": [
    "graspG, graspCost, grasp_info = GRASP(g, inst, 0.2, 20, 0.1)\n",
    "grasp_info"
   ]
  },
  {
   "cell_type": "code",
   "execution_count": 90,
   "id": "c10c3467",
   "metadata": {},
   "outputs": [
    {
     "data": {
      "text/plain": [
       "{'nodes': 1000,\n",
       " 'edges': 1250,\n",
       " 'terminals': 5,\n",
       " 'HC_time': 0.0021209716796875,\n",
       " 'HC': 44.0,\n",
       " 'LS': 27.0,\n",
       " 'LS_time': 0.12417912483215332,\n",
       " 'GRASP': 27.0,\n",
       " 'GRASP_time': 19.742819786071777,\n",
       " 'GRASP_iterations': 21,\n",
       " 'Initial_solutions': 21}"
      ]
     },
     "execution_count": 90,
     "metadata": {},
     "output_type": "execute_result"
    }
   ],
   "source": [
    "graspG, graspCost, grasp_info = GRASP(g, inst, 0.2, 20, 0.1, 10)\n",
    "grasp_info"
   ]
  },
  {
   "cell_type": "code",
   "execution_count": 96,
   "id": "c7b5dbb0",
   "metadata": {},
   "outputs": [
    {
     "name": "stdout",
     "output_type": "stream",
     "text": [
      "Graph with 500 nodes and 625 edges\n",
      "HC Cost:  649.0\n",
      "NetworkX Steiner cost:  779.0\n"
     ]
    }
   ],
   "source": [
    "inst = readInstance(\"Instances/CRR-C/C03-A.stp\", True)\n",
    "g = instanceGraph(inst)\n",
    "print(nx.info(g))\n",
    "\n",
    "x = initialSolution(inst, g, inst.getEdges(), inst.getTerminalPenalties())\n",
    "c = treeCost(x, inst.getNumNodes(), inst.getEdges(), inst.getTerminalPenalties())\n",
    "print(\"HC Cost: \", c)\n",
    "\n",
    "nodes = [i if prize > 0 else -1 for i, prize in enumerate(inst.getTerminalPenalties())]\n",
    "nodes = list(filter(lambda node: node > -1, nodes))\n",
    "\n",
    "steiner = steinertree.steiner_tree(g, nodes, weight='cost')\n",
    "steinerCost = treeCost(steiner, inst.getNumNodes(), inst.getEdges(), inst.getTerminalPenalties())\n",
    "print(\"NetworkX Steiner cost: \", steinerCost)"
   ]
  },
  {
   "cell_type": "code",
   "execution_count": 98,
   "id": "f8c6201e",
   "metadata": {},
   "outputs": [
    {
     "data": {
      "text/plain": [
       "{'nodes': 500,\n",
       " 'edges': 625,\n",
       " 'terminals': 83,\n",
       " 'HC_time': 0.028136253356933594,\n",
       " 'HC': 649.0,\n",
       " 'LS': 462.0,\n",
       " 'LS_time': 1.337244987487793,\n",
       " 'GRASP': 419.0,\n",
       " 'GRASP_time': 115.37631392478943,\n",
       " 'GRASP_iterations': 83,\n",
       " 'Initial_solutions': 73}"
      ]
     },
     "execution_count": 98,
     "metadata": {},
     "output_type": "execute_result"
    }
   ],
   "source": [
    "graspG, graspCost, grasp_info = GRASP(g, inst, 0.2, 20)\n",
    "grasp_info"
   ]
  },
  {
   "cell_type": "code",
   "execution_count": 99,
   "id": "9daeda0c",
   "metadata": {},
   "outputs": [
    {
     "data": {
      "text/plain": [
       "{'nodes': 500,\n",
       " 'edges': 625,\n",
       " 'terminals': 83,\n",
       " 'HC_time': 0.045114994049072266,\n",
       " 'HC': 649.0,\n",
       " 'LS': 449.0,\n",
       " 'LS_time': 2.937656879425049,\n",
       " 'GRASP': 425.0,\n",
       " 'GRASP_time': 75.22460150718689,\n",
       " 'GRASP_iterations': 33,\n",
       " 'Initial_solutions': 33}"
      ]
     },
     "execution_count": 99,
     "metadata": {},
     "output_type": "execute_result"
    }
   ],
   "source": [
    "graspG, graspCost, grasp_info = GRASP(g, inst, 0.2, 20, 0.1)\n",
    "grasp_info"
   ]
  },
  {
   "cell_type": "code",
   "execution_count": 97,
   "id": "9484baab",
   "metadata": {},
   "outputs": [
    {
     "data": {
      "text/plain": [
       "{'nodes': 500,\n",
       " 'edges': 625,\n",
       " 'terminals': 83,\n",
       " 'HC_time': 0.03281974792480469,\n",
       " 'HC': 649.0,\n",
       " 'LS': 443.0,\n",
       " 'LS_time': 1.7042045593261719,\n",
       " 'GRASP': 433.0,\n",
       " 'GRASP_time': 69.02876496315002,\n",
       " 'PR': 419.0,\n",
       " 'PR_time': 11.582231521606445,\n",
       " 'GRASP_iterations': 28,\n",
       " 'Initial_solutions': 28}"
      ]
     },
     "execution_count": 97,
     "metadata": {},
     "output_type": "execute_result"
    }
   ],
   "source": [
    "graspG, graspCost, grasp_info = GRASP(g, inst, 0.2, 20, 0.1, 10)\n",
    "grasp_info"
   ]
  },
  {
   "cell_type": "markdown",
   "id": "f00ac28b",
   "metadata": {},
   "source": [
    "### Testes das instancias de Benchmark"
   ]
  },
  {
   "cell_type": "markdown",
   "id": "6711070c",
   "metadata": {},
   "source": [
    "folder = \"Instances/CRR-D/\"\n",
    "files = ['D01-A.stp', 'D03-A.stp', 'D06-A.stp', 'D08-A.stp', 'D13-A.stp', 'D18-A.stp']\n",
    "f = open(f'Instances/result-D.txt', \"w\")\n",
    "directory = os.fsencode(folder)\n",
    "for file in os.listdir(directory):\n",
    "    filename = file.decode(\"utf-8\")\n",
    "    if filename not in files:\n",
    "        continue\n",
    "\n",
    "    inst = readInstance(folder + filename, True)\n",
    "    g = instanceGraph(inst)\n",
    "\n",
    "    for i in []: #range(5):\n",
    "        graspG, graspCost, instance_info = GRASP(g, inst, 0.2, 20, 0.1, 10)\n",
    "        instance_info['instance'] = filename\n",
    "        instance_info['execution'] = i\n",
    "        f.write(json.dumps(instance_info))\n",
    "        f.write(\"\\n\")\n",
    "\n",
    "f.close()"
   ]
  },
  {
   "cell_type": "markdown",
   "id": "ee428734",
   "metadata": {},
   "source": [
    "folder = \"Instances/CRR-C/\"\n",
    "files = ['C01-A.stp', 'C03-A.stp', 'C04-A.stp', 'C06-A.stp', 'C08-A.stp', 'C13-A.stp', 'C18-A.stp', 'C19-A.stp']\n",
    "f = open(f'Instances/result-C.txt', \"w\")\n",
    "directory = os.fsencode(folder)\n",
    "for file in os.listdir(directory):\n",
    "    filename = file.decode(\"utf-8\")\n",
    "    if filename not in files:\n",
    "        continue\n",
    "\n",
    "    inst = readInstance(folder + filename, True)\n",
    "    g = instanceGraph(inst)\n",
    "\n",
    "    for i in []: #range(5):\n",
    "        graspG, graspCost, instance_info = GRASP(g, inst, 0.2, 20, 0.1, 10)\n",
    "        instance_info['instance'] = filename\n",
    "        instance_info['execution'] = i\n",
    "        f.write(json.dumps(instance_info))\n",
    "        f.write(\"\\n\")\n",
    "\n",
    "f.close()"
   ]
  },
  {
   "cell_type": "markdown",
   "id": "d78fc4c7",
   "metadata": {},
   "source": [
    "folder = \"Instances/i640/\"\n",
    "files = ['i640-001.stp', 'i640-014.stp', 'i640-023.stp', 'i640-034.stp', 'i640-045.stp', 'i640-102.stp', 'i640-114.stp', \n",
    "         'i640-124.stp', 'i640-133.stp', 'i640-142.stp', 'i640-201.stp', 'i640-212.stp', 'i640-223.stp', 'i640-233.stp', 'i640-243.stp']\n",
    "f = open(f'Instances/result-i640.txt', \"w\")\n",
    "start = time.time()\n",
    "directory = os.fsencode(folder)\n",
    "for file in os.listdir(directory):\n",
    "    filename = file.decode(\"utf-8\")\n",
    "    if filename not in files:\n",
    "        continue\n",
    "    \n",
    "    print(filename, '->', time.time() - start)\n",
    "    inst = readInstance(folder + filename, True)\n",
    "    g = instanceGraph(inst)\n",
    "\n",
    "    for i in []: #range(5):\n",
    "        graspG, graspCost, instance_info = GRASP(g, inst, 0.2, 20, 0.1, 10)\n",
    "        instance_info['instance'] = filename\n",
    "        instance_info['execution'] = i\n",
    "        f.write(json.dumps(instance_info))\n",
    "        f.write(\"\\n\")\n",
    "\n",
    "f.close()"
   ]
  },
  {
   "cell_type": "markdown",
   "id": "bafbb455",
   "metadata": {},
   "source": [
    "folder = \"Instances/H/\"\n",
    "files = ['hc6p.stp', 'hc7p.stp', 'hc8p.stp', 'hc9p.stp']\n",
    "f = open(f'Instances/result-H.txt', \"w\")\n",
    "start = time.time()\n",
    "directory = os.fsencode(folder)\n",
    "for file in os.listdir(directory):\n",
    "    filename = file.decode(\"utf-8\")\n",
    "    if filename not in files:\n",
    "        continue\n",
    "    \n",
    "    print(filename, '->', time.time() - start)\n",
    "    inst = readInstance(folder + filename, True)\n",
    "    g = instanceGraph(inst)\n",
    "\n",
    "    for i in []: #range(5):\n",
    "        graspG, graspCost, instance_info = GRASP(g, inst, 0.2, 20, 0.1, 10)\n",
    "        instance_info['instance'] = filename\n",
    "        instance_info['execution'] = i\n",
    "        f.write(json.dumps(instance_info))\n",
    "        f.write(\"\\n\")\n",
    "\n",
    "f.close()"
   ]
  },
  {
   "cell_type": "markdown",
   "id": "8f00d165",
   "metadata": {},
   "source": [
    "folder = \"Instances/H2/\"\n",
    "files = ['hc6p2.stp', 'hc7p2.stp', 'hc8p2.stp', 'hc9p2.stp']\n",
    "f = open(f'Instances/result-H2.txt', \"w\")\n",
    "start = time.time()\n",
    "directory = os.fsencode(folder)\n",
    "for file in os.listdir(directory):\n",
    "    filename = file.decode(\"utf-8\")\n",
    "    if filename not in files:\n",
    "        continue\n",
    "    \n",
    "    print(filename, '->', time.time() - start)\n",
    "    inst = readInstance(folder + filename, True)\n",
    "    g = instanceGraph(inst)\n",
    "\n",
    "    for i in []: #range(5):\n",
    "        graspG, graspCost, instance_info = GRASP(g, inst, 0.2, 20, 0.1, 10)\n",
    "        instance_info['instance'] = filename\n",
    "        instance_info['execution'] = i\n",
    "        f.write(json.dumps(instance_info))\n",
    "        f.write(\"\\n\")\n",
    "\n",
    "f.close()"
   ]
  },
  {
   "cell_type": "markdown",
   "id": "159bfc36",
   "metadata": {},
   "source": [
    "folder = \"Instances/PUCNU/\"\n",
    "files = ['bipe2nu.stp', 'bip42nu.stp', 'bip62nu.stp', 'cc3-4nu.stp', 'cc3-5nu.stp', 'cc5-3nu.stp', 'cc6-2nu.stp', 'cc6-3nu.stp', 'cc9-2nu.stp', 'cc3-10nu.stp', 'cc10-2nu.stp']\n",
    "f = open(f'Instances/result-PUCNU.txt', \"w\")\n",
    "start = time.time()\n",
    "directory = os.fsencode(folder)\n",
    "for file in os.listdir(directory):\n",
    "    filename = file.decode(\"utf-8\")\n",
    "    if filename not in files:\n",
    "        continue\n",
    "    \n",
    "    print(filename, '->', time.time() - start)\n",
    "    inst = readInstance(folder + filename, True)\n",
    "    g = instanceGraph(inst)\n",
    "\n",
    "    for i in []: #range(5):\n",
    "        graspG, graspCost, instance_info = GRASP(g, inst, 0.2, 20, 0.1, 10)\n",
    "        instance_info['instance'] = filename\n",
    "        instance_info['execution'] = i\n",
    "        f.write(json.dumps(instance_info))\n",
    "        f.write(\"\\n\")\n",
    "\n",
    "f.close()"
   ]
  },
  {
   "cell_type": "markdown",
   "id": "760a4a12",
   "metadata": {},
   "source": [
    "### Organização dos resultados em dataframe"
   ]
  },
  {
   "cell_type": "code",
   "execution_count": 101,
   "id": "32ec63e3",
   "metadata": {},
   "outputs": [],
   "source": [
    "lb_articles_reference = {\n",
    "    'D01-A.stp':18,\n",
    "    'D03-A.stp':807,\n",
    "    'D06-A.stp':18,\n",
    "    'D08-A.stp':755,\n",
    "    'D13-A.stp':445,\n",
    "    'D18-A.stp':218,\n",
    "    'bipe2nu.stp':57, \n",
    "    'bip42nu.stp':280, \n",
    "    'bip62nu.stp':254, \n",
    "    'cc3-4nu.stp':11, \n",
    "    'cc3-5nu.stp':19, \n",
    "    'cc5-3nu.stp':38, \n",
    "    'cc6-2nu.stp':15, \n",
    "    'cc6-3nu.stp':104, \n",
    "    'cc9-2nu.stp':90, \n",
    "    'cc3-10nu.stp':65, \n",
    "    'cc10-2nu.stp':188,\n",
    "    'hc6p2.stp':4468, \n",
    "    'hc7p2.stp':9163, \n",
    "    'hc8p2.stp':18915, \n",
    "    'hc9p2.stp':37379,\n",
    "    'hc6p.stp':4483, \n",
    "    'hc7p.stp':9108, \n",
    "    'hc8p.stp':18452, \n",
    "    'hc9p.stp':35759,\n",
    "    'C01-A.stp':18, \n",
    "    'C03-A.stp':414, \n",
    "    'C04-A.stp':618, \n",
    "    'C06-A.stp':18, \n",
    "    'C08-A.stp':361, \n",
    "    'C13-A.stp':236, \n",
    "    'C18-A.stp':111, \n",
    "    'C19-A.stp':146,\n",
    "    'i640-001.stp':3414, \n",
    "    'i640-014.stp':2667, \n",
    "    'i640-023.stp':2072, \n",
    "    'i640-034.stp':3188, \n",
    "    'i640-045.stp':1932, \n",
    "    'i640-102.stp':8575, \n",
    "    'i640-114.stp':7271,\n",
    "    'i640-124.stp':6317, \n",
    "    'i640-133.stp':8253, \n",
    "    'i640-142.stp':6239, \n",
    "    'i640-201.stp':15953, \n",
    "    'i640-212.stp':14377, \n",
    "    'i640-223.stp':13065, \n",
    "    'i640-233.stp':15172, \n",
    "    'i640-243.stp':12843,\n",
    "    'i640-302.stp':48225, \n",
    "    'i640-315.stp':43114, \n",
    "    'i640-325.stp':40249, \n",
    "    'i640-333.stp':48135, \n",
    "    'i640-342.stp':41940\n",
    "}"
   ]
  },
  {
   "cell_type": "code",
   "execution_count": 102,
   "id": "a5a8d2d0",
   "metadata": {},
   "outputs": [],
   "source": [
    "json_data = []\n",
    "\n",
    "for filename in ['result-C.txt', 'result-D.txt', 'result-H.txt', 'result-H2.txt', 'result-i640.txt', 'result-PUCNU.txt']:\n",
    "    file = open('Instances/' + filename)\n",
    "    data = file.read()\n",
    "    lines = data.split(\"\\n\")\n",
    "\n",
    "    for line in lines:\n",
    "        if line != \"\":\n",
    "            data = json.loads(line)\n",
    "            data['Class'] = filename[7:-4]\n",
    "            json_data.append(data)\n",
    "\n",
    "df = pd.json_normalize(json_data)"
   ]
  },
  {
   "cell_type": "code",
   "execution_count": 103,
   "id": "631f5daa",
   "metadata": {},
   "outputs": [
    {
     "name": "stderr",
     "output_type": "stream",
     "text": [
      "C:\\Users\\simoe\\AppData\\Local\\Temp/ipykernel_15864/2449317416.py:2: SettingWithCopyWarning: \n",
      "A value is trying to be set on a copy of a slice from a DataFrame.\n",
      "Try using .loc[row_indexer,col_indexer] = value instead\n",
      "\n",
      "See the caveats in the documentation: https://pandas.pydata.org/pandas-docs/stable/user_guide/indexing.html#returning-a-view-versus-a-copy\n",
      "  df2[\"Total time\"] = df2[[\"HC_time\", \"LS_time\", \"GRASP_time\", \"PR_time\"]].sum(axis=1)\n"
     ]
    }
   ],
   "source": [
    "df2 = df[['Class','instance','execution','nodes','edges', 'terminals', 'HC', 'LS', 'GRASP', 'PR', 'GRASP_iterations', 'Initial_solutions', 'HC_time', 'LS_time', 'GRASP_time', 'PR_time']]\n",
    "df2[\"Total time\"] = df2[[\"HC_time\", \"LS_time\", \"GRASP_time\", \"PR_time\"]].sum(axis=1)\n",
    "df2 = df2.round({'Total time':3, 'HC_time':3, 'LS_time':3, 'GRASP_time':3, 'PR_time':3})"
   ]
  },
  {
   "cell_type": "code",
   "execution_count": 104,
   "id": "e0f2b112",
   "metadata": {},
   "outputs": [
    {
     "data": {
      "text/html": [
       "<div>\n",
       "<style scoped>\n",
       "    .dataframe tbody tr th:only-of-type {\n",
       "        vertical-align: middle;\n",
       "    }\n",
       "\n",
       "    .dataframe tbody tr th {\n",
       "        vertical-align: top;\n",
       "    }\n",
       "\n",
       "    .dataframe thead th {\n",
       "        text-align: right;\n",
       "    }\n",
       "</style>\n",
       "<table border=\"1\" class=\"dataframe\">\n",
       "  <thead>\n",
       "    <tr style=\"text-align: right;\">\n",
       "      <th></th>\n",
       "      <th>Class</th>\n",
       "      <th>instance</th>\n",
       "      <th>execution</th>\n",
       "      <th>nodes</th>\n",
       "      <th>edges</th>\n",
       "      <th>terminals</th>\n",
       "      <th>HC</th>\n",
       "      <th>LS</th>\n",
       "      <th>GRASP</th>\n",
       "      <th>PR</th>\n",
       "      <th>GRASP_iterations</th>\n",
       "      <th>Initial_solutions</th>\n",
       "      <th>HC_time</th>\n",
       "      <th>LS_time</th>\n",
       "      <th>GRASP_time</th>\n",
       "      <th>PR_time</th>\n",
       "      <th>Total time</th>\n",
       "    </tr>\n",
       "  </thead>\n",
       "  <tbody>\n",
       "    <tr>\n",
       "      <th>0</th>\n",
       "      <td>C</td>\n",
       "      <td>C01-A.stp</td>\n",
       "      <td>0</td>\n",
       "      <td>500</td>\n",
       "      <td>625</td>\n",
       "      <td>5</td>\n",
       "      <td>62.0</td>\n",
       "      <td>27.0</td>\n",
       "      <td>27.0</td>\n",
       "      <td>NaN</td>\n",
       "      <td>21</td>\n",
       "      <td>21</td>\n",
       "      <td>0.001</td>\n",
       "      <td>0.033</td>\n",
       "      <td>9.858</td>\n",
       "      <td>NaN</td>\n",
       "      <td>9.892</td>\n",
       "    </tr>\n",
       "    <tr>\n",
       "      <th>1</th>\n",
       "      <td>C</td>\n",
       "      <td>C01-A.stp</td>\n",
       "      <td>1</td>\n",
       "      <td>500</td>\n",
       "      <td>625</td>\n",
       "      <td>5</td>\n",
       "      <td>62.0</td>\n",
       "      <td>27.0</td>\n",
       "      <td>27.0</td>\n",
       "      <td>NaN</td>\n",
       "      <td>21</td>\n",
       "      <td>21</td>\n",
       "      <td>0.001</td>\n",
       "      <td>0.131</td>\n",
       "      <td>9.624</td>\n",
       "      <td>NaN</td>\n",
       "      <td>9.755</td>\n",
       "    </tr>\n",
       "    <tr>\n",
       "      <th>2</th>\n",
       "      <td>C</td>\n",
       "      <td>C01-A.stp</td>\n",
       "      <td>2</td>\n",
       "      <td>500</td>\n",
       "      <td>625</td>\n",
       "      <td>5</td>\n",
       "      <td>62.0</td>\n",
       "      <td>27.0</td>\n",
       "      <td>27.0</td>\n",
       "      <td>NaN</td>\n",
       "      <td>21</td>\n",
       "      <td>21</td>\n",
       "      <td>0.001</td>\n",
       "      <td>0.065</td>\n",
       "      <td>8.925</td>\n",
       "      <td>NaN</td>\n",
       "      <td>8.991</td>\n",
       "    </tr>\n",
       "    <tr>\n",
       "      <th>3</th>\n",
       "      <td>C</td>\n",
       "      <td>C01-A.stp</td>\n",
       "      <td>3</td>\n",
       "      <td>500</td>\n",
       "      <td>625</td>\n",
       "      <td>5</td>\n",
       "      <td>62.0</td>\n",
       "      <td>27.0</td>\n",
       "      <td>27.0</td>\n",
       "      <td>NaN</td>\n",
       "      <td>21</td>\n",
       "      <td>21</td>\n",
       "      <td>0.000</td>\n",
       "      <td>0.192</td>\n",
       "      <td>10.051</td>\n",
       "      <td>NaN</td>\n",
       "      <td>10.243</td>\n",
       "    </tr>\n",
       "    <tr>\n",
       "      <th>4</th>\n",
       "      <td>C</td>\n",
       "      <td>C01-A.stp</td>\n",
       "      <td>4</td>\n",
       "      <td>500</td>\n",
       "      <td>625</td>\n",
       "      <td>5</td>\n",
       "      <td>62.0</td>\n",
       "      <td>27.0</td>\n",
       "      <td>27.0</td>\n",
       "      <td>NaN</td>\n",
       "      <td>21</td>\n",
       "      <td>21</td>\n",
       "      <td>0.001</td>\n",
       "      <td>0.201</td>\n",
       "      <td>10.897</td>\n",
       "      <td>NaN</td>\n",
       "      <td>11.099</td>\n",
       "    </tr>\n",
       "  </tbody>\n",
       "</table>\n",
       "</div>"
      ],
      "text/plain": [
       "  Class   instance  execution  nodes  edges  terminals    HC    LS  GRASP  PR  \\\n",
       "0     C  C01-A.stp          0    500    625          5  62.0  27.0   27.0 NaN   \n",
       "1     C  C01-A.stp          1    500    625          5  62.0  27.0   27.0 NaN   \n",
       "2     C  C01-A.stp          2    500    625          5  62.0  27.0   27.0 NaN   \n",
       "3     C  C01-A.stp          3    500    625          5  62.0  27.0   27.0 NaN   \n",
       "4     C  C01-A.stp          4    500    625          5  62.0  27.0   27.0 NaN   \n",
       "\n",
       "   GRASP_iterations  Initial_solutions  HC_time  LS_time  GRASP_time  PR_time  \\\n",
       "0                21                 21    0.001    0.033       9.858      NaN   \n",
       "1                21                 21    0.001    0.131       9.624      NaN   \n",
       "2                21                 21    0.001    0.065       8.925      NaN   \n",
       "3                21                 21    0.000    0.192      10.051      NaN   \n",
       "4                21                 21    0.001    0.201      10.897      NaN   \n",
       "\n",
       "   Total time  \n",
       "0       9.892  \n",
       "1       9.755  \n",
       "2       8.991  \n",
       "3      10.243  \n",
       "4      11.099  "
      ]
     },
     "execution_count": 104,
     "metadata": {},
     "output_type": "execute_result"
    }
   ],
   "source": [
    "df2.head()"
   ]
  },
  {
   "cell_type": "code",
   "execution_count": 105,
   "id": "0d9b7c15",
   "metadata": {},
   "outputs": [
    {
     "data": {
      "text/html": [
       "<div>\n",
       "<style scoped>\n",
       "    .dataframe tbody tr th:only-of-type {\n",
       "        vertical-align: middle;\n",
       "    }\n",
       "\n",
       "    .dataframe tbody tr th {\n",
       "        vertical-align: top;\n",
       "    }\n",
       "\n",
       "    .dataframe thead th {\n",
       "        text-align: right;\n",
       "    }\n",
       "</style>\n",
       "<table border=\"1\" class=\"dataframe\">\n",
       "  <thead>\n",
       "    <tr style=\"text-align: right;\">\n",
       "      <th></th>\n",
       "      <th>class</th>\n",
       "      <th>instance</th>\n",
       "      <th>nodes</th>\n",
       "      <th>edges</th>\n",
       "      <th>terminals</th>\n",
       "      <th>HC</th>\n",
       "      <th>LS_mean</th>\n",
       "      <th>LS_best</th>\n",
       "      <th>GRASP_mean</th>\n",
       "      <th>GRASP_best</th>\n",
       "      <th>PR_mean</th>\n",
       "      <th>Cost_best</th>\n",
       "      <th>Cost_mean</th>\n",
       "      <th>Cost_std</th>\n",
       "      <th>Optimal</th>\n",
       "      <th>Time</th>\n",
       "    </tr>\n",
       "  </thead>\n",
       "  <tbody>\n",
       "    <tr>\n",
       "      <th>0</th>\n",
       "      <td>C</td>\n",
       "      <td>C01-A.stp</td>\n",
       "      <td>500</td>\n",
       "      <td>625</td>\n",
       "      <td>5</td>\n",
       "      <td>62.0</td>\n",
       "      <td>27.0</td>\n",
       "      <td>27.0</td>\n",
       "      <td>27.0</td>\n",
       "      <td>27.0</td>\n",
       "      <td>NaN</td>\n",
       "      <td>27.0</td>\n",
       "      <td>27.0</td>\n",
       "      <td>0.000000</td>\n",
       "      <td>18</td>\n",
       "      <td>9.9960</td>\n",
       "    </tr>\n",
       "    <tr>\n",
       "      <th>1</th>\n",
       "      <td>C</td>\n",
       "      <td>C03-A.stp</td>\n",
       "      <td>500</td>\n",
       "      <td>625</td>\n",
       "      <td>83</td>\n",
       "      <td>649.0</td>\n",
       "      <td>450.8</td>\n",
       "      <td>444.0</td>\n",
       "      <td>425.0</td>\n",
       "      <td>419.0</td>\n",
       "      <td>422.2</td>\n",
       "      <td>419.0</td>\n",
       "      <td>422.2</td>\n",
       "      <td>4.381780</td>\n",
       "      <td>414</td>\n",
       "      <td>176.6976</td>\n",
       "    </tr>\n",
       "    <tr>\n",
       "      <th>2</th>\n",
       "      <td>C</td>\n",
       "      <td>C04-A.stp</td>\n",
       "      <td>500</td>\n",
       "      <td>625</td>\n",
       "      <td>125</td>\n",
       "      <td>808.0</td>\n",
       "      <td>639.4</td>\n",
       "      <td>635.0</td>\n",
       "      <td>631.0</td>\n",
       "      <td>629.0</td>\n",
       "      <td>630.8</td>\n",
       "      <td>629.0</td>\n",
       "      <td>630.8</td>\n",
       "      <td>1.643168</td>\n",
       "      <td>618</td>\n",
       "      <td>216.2774</td>\n",
       "    </tr>\n",
       "    <tr>\n",
       "      <th>3</th>\n",
       "      <td>C</td>\n",
       "      <td>C06-A.stp</td>\n",
       "      <td>500</td>\n",
       "      <td>1000</td>\n",
       "      <td>5</td>\n",
       "      <td>52.0</td>\n",
       "      <td>27.0</td>\n",
       "      <td>27.0</td>\n",
       "      <td>27.0</td>\n",
       "      <td>27.0</td>\n",
       "      <td>NaN</td>\n",
       "      <td>27.0</td>\n",
       "      <td>27.0</td>\n",
       "      <td>0.000000</td>\n",
       "      <td>18</td>\n",
       "      <td>7.5642</td>\n",
       "    </tr>\n",
       "    <tr>\n",
       "      <th>4</th>\n",
       "      <td>C</td>\n",
       "      <td>C08-A.stp</td>\n",
       "      <td>500</td>\n",
       "      <td>1000</td>\n",
       "      <td>83</td>\n",
       "      <td>449.0</td>\n",
       "      <td>375.0</td>\n",
       "      <td>370.0</td>\n",
       "      <td>364.4</td>\n",
       "      <td>362.0</td>\n",
       "      <td>361.6</td>\n",
       "      <td>361.0</td>\n",
       "      <td>361.6</td>\n",
       "      <td>0.547723</td>\n",
       "      <td>361</td>\n",
       "      <td>174.5736</td>\n",
       "    </tr>\n",
       "  </tbody>\n",
       "</table>\n",
       "</div>"
      ],
      "text/plain": [
       "  class   instance  nodes  edges  terminals     HC  LS_mean  LS_best  \\\n",
       "0     C  C01-A.stp    500    625          5   62.0     27.0     27.0   \n",
       "1     C  C03-A.stp    500    625         83  649.0    450.8    444.0   \n",
       "2     C  C04-A.stp    500    625        125  808.0    639.4    635.0   \n",
       "3     C  C06-A.stp    500   1000          5   52.0     27.0     27.0   \n",
       "4     C  C08-A.stp    500   1000         83  449.0    375.0    370.0   \n",
       "\n",
       "   GRASP_mean  GRASP_best  PR_mean  Cost_best  Cost_mean  Cost_std  Optimal  \\\n",
       "0        27.0        27.0      NaN       27.0       27.0  0.000000       18   \n",
       "1       425.0       419.0    422.2      419.0      422.2  4.381780      414   \n",
       "2       631.0       629.0    630.8      629.0      630.8  1.643168      618   \n",
       "3        27.0        27.0      NaN       27.0       27.0  0.000000       18   \n",
       "4       364.4       362.0    361.6      361.0      361.6  0.547723      361   \n",
       "\n",
       "       Time  \n",
       "0    9.9960  \n",
       "1  176.6976  \n",
       "2  216.2774  \n",
       "3    7.5642  \n",
       "4  174.5736  "
      ]
     },
     "execution_count": 105,
     "metadata": {},
     "output_type": "execute_result"
    }
   ],
   "source": [
    "instances_json = []\n",
    "instances = df2['instance'].unique()\n",
    "df2['solution'] = df2[[\"GRASP\", \"PR\"]].min(axis = 1)\n",
    "for instance in instances:\n",
    "    execs = df2.loc[df2['instance'] == instance]\n",
    "    execs.reset_index(drop=True, inplace=True)\n",
    "    inst_data = {\n",
    "        'class': execs['Class'][0],\n",
    "        'instance': instance,\n",
    "        'nodes': execs['nodes'][0],\n",
    "        'edges': execs['edges'][0],\n",
    "        'terminals': execs['terminals'][0],\n",
    "        'HC': execs['HC'][0],\n",
    "        'LS_mean': execs['LS'].mean(),\n",
    "        'LS_best': execs['LS'].min(),\n",
    "        'GRASP_mean': execs['GRASP'].mean(),\n",
    "        'GRASP_best': execs['GRASP'].min(),\n",
    "        'PR_mean': execs['PR'].mean(),\n",
    "        'Cost_best': execs['solution'].min(),\n",
    "        'Cost_mean': execs['solution'].mean(),\n",
    "        'Cost_std': execs['solution'].std(),\n",
    "        'Optimal': lb_articles_reference[instance],\n",
    "        'Time': execs['Total time'].mean()\n",
    "    }\n",
    "\n",
    "    instances_json.append(inst_data)\n",
    "\n",
    "new_df = pd.json_normalize(instances_json)\n",
    "new_df.head()"
   ]
  },
  {
   "cell_type": "code",
   "execution_count": 106,
   "id": "4ab8e584",
   "metadata": {},
   "outputs": [],
   "source": [
    "new_df['GAP_HC'] = 100 * (new_df['HC'] - new_df['Optimal']) / new_df['Optimal']\n",
    "new_df['GAP_LS'] = 100 * (new_df['LS_mean'] - new_df['Optimal']) / new_df['Optimal']\n",
    "new_df['GAP_GRASP'] = 100 * (new_df['GRASP_mean'] - new_df['Optimal']) / new_df['Optimal']\n",
    "new_df['GAP_PR'] = 100 * (new_df['Cost_best'] - new_df['Optimal']) / new_df['Optimal']"
   ]
  },
  {
   "cell_type": "code",
   "execution_count": 107,
   "id": "429ceab8",
   "metadata": {},
   "outputs": [
    {
     "name": "stderr",
     "output_type": "stream",
     "text": [
      "C:\\Users\\simoe\\AppData\\Local\\Temp/ipykernel_15864/3164757299.py:1: SettingWithCopyWarning: \n",
      "A value is trying to be set on a copy of a slice from a DataFrame\n",
      "\n",
      "See the caveats in the documentation: https://pandas.pydata.org/pandas-docs/stable/user_guide/indexing.html#returning-a-view-versus-a-copy\n",
      "  new_df['GAP_HC'][new_df['GAP_HC'] < 0] = 0\n",
      "C:\\Users\\simoe\\AppData\\Local\\Temp/ipykernel_15864/3164757299.py:2: SettingWithCopyWarning: \n",
      "A value is trying to be set on a copy of a slice from a DataFrame\n",
      "\n",
      "See the caveats in the documentation: https://pandas.pydata.org/pandas-docs/stable/user_guide/indexing.html#returning-a-view-versus-a-copy\n",
      "  new_df['GAP_LS'][new_df['GAP_LS'] < 0] = 0\n",
      "C:\\Users\\simoe\\AppData\\Local\\Temp/ipykernel_15864/3164757299.py:3: SettingWithCopyWarning: \n",
      "A value is trying to be set on a copy of a slice from a DataFrame\n",
      "\n",
      "See the caveats in the documentation: https://pandas.pydata.org/pandas-docs/stable/user_guide/indexing.html#returning-a-view-versus-a-copy\n",
      "  new_df['GAP_GRASP'][new_df['GAP_GRASP'] < 0] = 0\n",
      "C:\\Users\\simoe\\AppData\\Local\\Temp/ipykernel_15864/3164757299.py:4: SettingWithCopyWarning: \n",
      "A value is trying to be set on a copy of a slice from a DataFrame\n",
      "\n",
      "See the caveats in the documentation: https://pandas.pydata.org/pandas-docs/stable/user_guide/indexing.html#returning-a-view-versus-a-copy\n",
      "  new_df['GAP_PR'][new_df['GAP_PR'] < 0] = 0\n"
     ]
    }
   ],
   "source": [
    "new_df['GAP_HC'][new_df['GAP_HC'] < 0] = 0\n",
    "new_df['GAP_LS'][new_df['GAP_LS'] < 0] = 0\n",
    "new_df['GAP_GRASP'][new_df['GAP_GRASP'] < 0] = 0\n",
    "new_df['GAP_PR'][new_df['GAP_PR'] < 0] = 0"
   ]
  },
  {
   "cell_type": "code",
   "execution_count": 108,
   "id": "90bc6631",
   "metadata": {},
   "outputs": [
    {
     "data": {
      "text/html": [
       "<div>\n",
       "<style scoped>\n",
       "    .dataframe tbody tr th:only-of-type {\n",
       "        vertical-align: middle;\n",
       "    }\n",
       "\n",
       "    .dataframe tbody tr th {\n",
       "        vertical-align: top;\n",
       "    }\n",
       "\n",
       "    .dataframe thead th {\n",
       "        text-align: right;\n",
       "    }\n",
       "</style>\n",
       "<table border=\"1\" class=\"dataframe\">\n",
       "  <thead>\n",
       "    <tr style=\"text-align: right;\">\n",
       "      <th></th>\n",
       "      <th>class</th>\n",
       "      <th>instance</th>\n",
       "      <th>nodes</th>\n",
       "      <th>edges</th>\n",
       "      <th>terminals</th>\n",
       "      <th>HC</th>\n",
       "      <th>LS_mean</th>\n",
       "      <th>LS_best</th>\n",
       "      <th>GRASP_mean</th>\n",
       "      <th>GRASP_best</th>\n",
       "      <th>PR_mean</th>\n",
       "      <th>Cost_best</th>\n",
       "      <th>Cost_mean</th>\n",
       "      <th>Cost_std</th>\n",
       "      <th>Optimal</th>\n",
       "      <th>Time</th>\n",
       "      <th>GAP_HC</th>\n",
       "      <th>GAP_LS</th>\n",
       "      <th>GAP_GRASP</th>\n",
       "      <th>GAP_PR</th>\n",
       "    </tr>\n",
       "  </thead>\n",
       "  <tbody>\n",
       "    <tr>\n",
       "      <th>0</th>\n",
       "      <td>C</td>\n",
       "      <td>C01-A.stp</td>\n",
       "      <td>500</td>\n",
       "      <td>625</td>\n",
       "      <td>5</td>\n",
       "      <td>62.0</td>\n",
       "      <td>27.0</td>\n",
       "      <td>27.0</td>\n",
       "      <td>27.0</td>\n",
       "      <td>27.0</td>\n",
       "      <td>NaN</td>\n",
       "      <td>27.0</td>\n",
       "      <td>27.0</td>\n",
       "      <td>0.000000</td>\n",
       "      <td>18</td>\n",
       "      <td>9.9960</td>\n",
       "      <td>244.444444</td>\n",
       "      <td>50.000000</td>\n",
       "      <td>50.000000</td>\n",
       "      <td>50.000000</td>\n",
       "    </tr>\n",
       "    <tr>\n",
       "      <th>1</th>\n",
       "      <td>C</td>\n",
       "      <td>C03-A.stp</td>\n",
       "      <td>500</td>\n",
       "      <td>625</td>\n",
       "      <td>83</td>\n",
       "      <td>649.0</td>\n",
       "      <td>450.8</td>\n",
       "      <td>444.0</td>\n",
       "      <td>425.0</td>\n",
       "      <td>419.0</td>\n",
       "      <td>422.2</td>\n",
       "      <td>419.0</td>\n",
       "      <td>422.2</td>\n",
       "      <td>4.381780</td>\n",
       "      <td>414</td>\n",
       "      <td>176.6976</td>\n",
       "      <td>56.763285</td>\n",
       "      <td>8.888889</td>\n",
       "      <td>2.657005</td>\n",
       "      <td>1.207729</td>\n",
       "    </tr>\n",
       "    <tr>\n",
       "      <th>2</th>\n",
       "      <td>C</td>\n",
       "      <td>C04-A.stp</td>\n",
       "      <td>500</td>\n",
       "      <td>625</td>\n",
       "      <td>125</td>\n",
       "      <td>808.0</td>\n",
       "      <td>639.4</td>\n",
       "      <td>635.0</td>\n",
       "      <td>631.0</td>\n",
       "      <td>629.0</td>\n",
       "      <td>630.8</td>\n",
       "      <td>629.0</td>\n",
       "      <td>630.8</td>\n",
       "      <td>1.643168</td>\n",
       "      <td>618</td>\n",
       "      <td>216.2774</td>\n",
       "      <td>30.744337</td>\n",
       "      <td>3.462783</td>\n",
       "      <td>2.103560</td>\n",
       "      <td>1.779935</td>\n",
       "    </tr>\n",
       "    <tr>\n",
       "      <th>3</th>\n",
       "      <td>C</td>\n",
       "      <td>C06-A.stp</td>\n",
       "      <td>500</td>\n",
       "      <td>1000</td>\n",
       "      <td>5</td>\n",
       "      <td>52.0</td>\n",
       "      <td>27.0</td>\n",
       "      <td>27.0</td>\n",
       "      <td>27.0</td>\n",
       "      <td>27.0</td>\n",
       "      <td>NaN</td>\n",
       "      <td>27.0</td>\n",
       "      <td>27.0</td>\n",
       "      <td>0.000000</td>\n",
       "      <td>18</td>\n",
       "      <td>7.5642</td>\n",
       "      <td>188.888889</td>\n",
       "      <td>50.000000</td>\n",
       "      <td>50.000000</td>\n",
       "      <td>50.000000</td>\n",
       "    </tr>\n",
       "    <tr>\n",
       "      <th>4</th>\n",
       "      <td>C</td>\n",
       "      <td>C08-A.stp</td>\n",
       "      <td>500</td>\n",
       "      <td>1000</td>\n",
       "      <td>83</td>\n",
       "      <td>449.0</td>\n",
       "      <td>375.0</td>\n",
       "      <td>370.0</td>\n",
       "      <td>364.4</td>\n",
       "      <td>362.0</td>\n",
       "      <td>361.6</td>\n",
       "      <td>361.0</td>\n",
       "      <td>361.6</td>\n",
       "      <td>0.547723</td>\n",
       "      <td>361</td>\n",
       "      <td>174.5736</td>\n",
       "      <td>24.376731</td>\n",
       "      <td>3.878116</td>\n",
       "      <td>0.941828</td>\n",
       "      <td>0.000000</td>\n",
       "    </tr>\n",
       "  </tbody>\n",
       "</table>\n",
       "</div>"
      ],
      "text/plain": [
       "  class   instance  nodes  edges  terminals     HC  LS_mean  LS_best  \\\n",
       "0     C  C01-A.stp    500    625          5   62.0     27.0     27.0   \n",
       "1     C  C03-A.stp    500    625         83  649.0    450.8    444.0   \n",
       "2     C  C04-A.stp    500    625        125  808.0    639.4    635.0   \n",
       "3     C  C06-A.stp    500   1000          5   52.0     27.0     27.0   \n",
       "4     C  C08-A.stp    500   1000         83  449.0    375.0    370.0   \n",
       "\n",
       "   GRASP_mean  GRASP_best  PR_mean  Cost_best  Cost_mean  Cost_std  Optimal  \\\n",
       "0        27.0        27.0      NaN       27.0       27.0  0.000000       18   \n",
       "1       425.0       419.0    422.2      419.0      422.2  4.381780      414   \n",
       "2       631.0       629.0    630.8      629.0      630.8  1.643168      618   \n",
       "3        27.0        27.0      NaN       27.0       27.0  0.000000       18   \n",
       "4       364.4       362.0    361.6      361.0      361.6  0.547723      361   \n",
       "\n",
       "       Time      GAP_HC     GAP_LS  GAP_GRASP     GAP_PR  \n",
       "0    9.9960  244.444444  50.000000  50.000000  50.000000  \n",
       "1  176.6976   56.763285   8.888889   2.657005   1.207729  \n",
       "2  216.2774   30.744337   3.462783   2.103560   1.779935  \n",
       "3    7.5642  188.888889  50.000000  50.000000  50.000000  \n",
       "4  174.5736   24.376731   3.878116   0.941828   0.000000  "
      ]
     },
     "execution_count": 108,
     "metadata": {},
     "output_type": "execute_result"
    }
   ],
   "source": [
    "new_df.head()"
   ]
  },
  {
   "cell_type": "code",
   "execution_count": 109,
   "id": "18ee9485",
   "metadata": {},
   "outputs": [
    {
     "data": {
      "text/plain": [
       "<matplotlib.legend.Legend at 0x25adafba310>"
      ]
     },
     "execution_count": 109,
     "metadata": {},
     "output_type": "execute_result"
    },
    {
     "data": {
      "image/png": "[encoded data removed]",
      "text/plain": [
       "<Figure size 504x504 with 1 Axes>"
      ]
     },
     "metadata": {
      "needs_background": "light"
     },
     "output_type": "display_data"
    }
   ],
   "source": [
    "fig, ax = plt.subplots(figsize=(7,7))\n",
    "\n",
    "im_df = new_df\n",
    "for gap in ['GAP_LS', 'GAP_GRASP', 'GAP_PR']:\n",
    "    max_gap = im_df[gap].max()\n",
    "    cummulative_instances_deviation = []\n",
    "    for i in [0, 1, 2, 5, 10, 15, 20]:\n",
    "        cummulative_instances_deviation.append((i, (im_df[gap] <= i).sum()))\n",
    "    cummulative_instances_deviation.append((max_gap, (im_df[gap] <= max_gap).sum()))\n",
    "\n",
    "    deviation = [i for i, j in cummulative_instances_deviation]\n",
    "    intances_count = [j for i, j in cummulative_instances_deviation]\n",
    "    ax.plot(deviation, intances_count, label=gap)\n",
    "\n",
    "ax.set_xlabel('deviation from the optimal value (%)')\n",
    "ax.set_ylabel('cummulative number of instances')\n",
    "plt.legend(loc='lower right')\n"
   ]
  },
  {
   "cell_type": "code",
   "execution_count": 110,
   "id": "acd06d15",
   "metadata": {},
   "outputs": [
    {
     "name": "stdout",
     "output_type": "stream",
     "text": [
      "class  instances  optimal  < 1%  < 2%  < 5%    Time\n",
      "    C          8        1     2     5     6  181.41\n",
      "    H          4        4     4     4     4 1731.35\n",
      "   H2          4        4     4     4     4 1492.94\n",
      " i640         15       15    15    15    15  167.30\n",
      "PUCNU         11       11    11    11    11  629.93\n"
     ]
    }
   ],
   "source": [
    "instances_json = []\n",
    "instances = new_df['class'].unique()\n",
    "for instance in instances:\n",
    "    execs = new_df.loc[new_df['class'] == instance]\n",
    "    execs.reset_index(drop=True, inplace=True)\n",
    "    inst_data = {\n",
    "        'class': execs['class'][0],\n",
    "        'instances': len(execs),\n",
    "        'optimal': (execs['GAP_PR'] <= 0).sum(),\n",
    "        '< 1%': (execs['GAP_PR'] < 1).sum(),\n",
    "        '< 2%': (execs['GAP_PR'] < 2).sum(),\n",
    "        '< 5%': (execs['GAP_PR'] < 5).sum(),\n",
    "        'Time': execs['Time'].mean()\n",
    "    }\n",
    "\n",
    "    instances_json.append(inst_data)\n",
    "\n",
    "final_df = pd.json_normalize(instances_json)\n",
    "final_df = final_df.round({'Time':2})\n",
    "print(final_df.to_string(index=False))\n",
    "#print(final_df.to_latex(index=False))"
   ]
  },
  {
   "cell_type": "code",
   "execution_count": 111,
   "id": "2928b1ea",
   "metadata": {},
   "outputs": [
    {
     "name": "stdout",
     "output_type": "stream",
     "text": [
      " instance  terminals  GAP_GRASP  GAP_PR   Time\n",
      " hc6p.stp         64        0.0     0.0   19.4\n",
      " hc8p.stp        256        0.0     0.0  711.4\n",
      " hc7p.stp        128        0.0     0.0   83.7\n",
      " hc9p.stp        512        0.0     0.0 6110.8\n",
      "hc6p2.stp         64        0.0     0.0   12.1\n",
      "hc7p2.stp        128        0.0     0.0   72.5\n"
     ]
    }
   ],
   "source": [
    "d_df = new_df.loc[[8,10,9,11,12,13]][['instance', 'terminals', 'GAP_GRASP', 'GAP_PR', 'Time']]\n",
    "d_df = d_df.round({'GAP_GRASP':2, 'GAP_PR':2, 'Time':1})\n",
    "print(d_df.to_string(index=False))\n",
    "#print(d_df.to_latex(index=False))"
   ]
  }
 ],
 "metadata": {
  "kernelspec": {
   "display_name": "Python 3",
   "language": "python",
   "name": "python3"
  },
  "language_info": {
   "codemirror_mode": {
    "name": "ipython",
    "version": 3
   },
   "file_extension": ".py",
   "mimetype": "text/x-python",
   "name": "python",
   "nbconvert_exporter": "python",
   "pygments_lexer": "ipython3",
   "version": "3.9.7"
  }
 },
 "nbformat": 4,
 "nbformat_minor": 5
}
